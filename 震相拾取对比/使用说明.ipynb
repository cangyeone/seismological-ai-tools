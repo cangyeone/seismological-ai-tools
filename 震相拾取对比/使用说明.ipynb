{
 "cells": [
  {
   "cell_type": "markdown",
   "metadata": {},
   "source": [
    "### 使用说明\n",
    "测试数据和更多使用方法请联系QQ群173640919，在群文件中有"
   ]
  },
  {
   "cell_type": "code",
   "execution_count": 79,
   "metadata": {},
   "outputs": [],
   "source": [
    "import matplotlib.pyplot as plt \n",
    "%matplotlib inline "
   ]
  },
  {
   "cell_type": "code",
   "execution_count": 80,
   "metadata": {},
   "outputs": [],
   "source": [
    "import torch \n",
    "import torch.nn as nn "
   ]
  },
  {
   "cell_type": "code",
   "execution_count": 81,
   "metadata": {},
   "outputs": [
    {
     "data": {
      "text/plain": [
       "<All keys matched successfully>"
      ]
     },
     "execution_count": 81,
     "metadata": {},
     "output_type": "execute_result"
    }
   ],
   "source": [
    "from models.UNet import UNet, Loss as ULoss \n",
    "model = UNet() \n",
    "model.train()\n",
    "model.load_state_dict(torch.load(\"ckpt/diting.unet.pt\", map_location=\"cpu\"))"
   ]
  },
  {
   "cell_type": "code",
   "execution_count": 82,
   "metadata": {},
   "outputs": [
    {
     "name": "stdout",
     "output_type": "stream",
     "text": [
      "torch.Size([100, 3, 6144])\n"
     ]
    }
   ],
   "source": [
    "wave = torch.randn([100, 3, 6144])\n",
    "y = model(wave)\n",
    "print(y.shape)\n"
   ]
  },
  {
   "cell_type": "markdown",
   "metadata": {},
   "source": [
    "### 数据读取部分\n",
    "- windows系统建议使用Thread\n",
    "- thread并行加速效果不明显"
   ]
  },
  {
   "cell_type": "code",
   "execution_count": 83,
   "metadata": {},
   "outputs": [],
   "source": [
    "from utils.data import DitingData, DitingDataThread "
   ]
  },
  {
   "cell_type": "code",
   "execution_count": 84,
   "metadata": {},
   "outputs": [],
   "source": [
    "datatool = DitingDataThread(file_name=\"data/diting.h5\", n_length=6144, stride=16, padlen=256)"
   ]
  },
  {
   "cell_type": "code",
   "execution_count": 85,
   "metadata": {},
   "outputs": [
    {
     "name": "stdout",
     "output_type": "stream",
     "text": [
      "(32, 3, 6144) (32, 2, 384) (32, 3, 6144) (32, 3, 6144)\n"
     ]
    }
   ],
   "source": [
    "x1, x2, x3, x4 = datatool.batch_data()\n",
    "print(x1.shape, x2.shape, x3.shape, x4.shape)"
   ]
  },
  {
   "cell_type": "code",
   "execution_count": 86,
   "metadata": {},
   "outputs": [
    {
     "data": {
      "text/plain": [
       "[<matplotlib.lines.Line2D at 0x20fb751f0d0>]"
      ]
     },
     "execution_count": 86,
     "metadata": {},
     "output_type": "execute_result"
    },
    {
     "data": {
      "image/png": "[encoded data removed]",
      "text/plain": [
       "<Figure size 432x288 with 1 Axes>"
      ]
     },
     "metadata": {
      "needs_background": "light"
     },
     "output_type": "display_data"
    }
   ],
   "source": [
    "plt.plot(x1[0, 1], c=\"k\")\n",
    "plt.plot(x3[0, 0], c=\"g\")\n",
    "plt.plot(x3[0, 1], c=\"b\")\n",
    "plt.plot(x3[0, 2], c=\"r\")"
   ]
  },
  {
   "cell_type": "markdown",
   "metadata": {},
   "source": [
    "### 模型训练\n",
    "- 将训练数据输入到模型中即可"
   ]
  },
  {
   "cell_type": "code",
   "execution_count": 87,
   "metadata": {},
   "outputs": [
    {
     "name": "stdout",
     "output_type": "stream",
     "text": [
      "0 tensor(108845.4688, grad_fn=<NegBackward0>)\n",
      "2 tensor(113183.4062, grad_fn=<NegBackward0>)\n",
      "4 tensor(115453.3516, grad_fn=<NegBackward0>)\n",
      "6 tensor(108292.7891, grad_fn=<NegBackward0>)\n",
      "8 tensor(103311.4531, grad_fn=<NegBackward0>)\n"
     ]
    }
   ],
   "source": [
    "from models.UNet import UNet, Loss as ULoss \n",
    "model = UNet() \n",
    "model.train()\n",
    "model.load_state_dict(torch.load(\"ckpt/diting.unet.pt\", map_location=\"cpu\"))\n",
    "lossfn = ULoss()\n",
    "optim = torch.optim.Adam(model.parameters(), 1e-4) \n",
    "\n",
    "for step in range(10):\n",
    "    x1, x2, x3, x4 = datatool.batch_data()\n",
    "    wave = torch.tensor(x1, dtype=torch.float32)\n",
    "    label = torch.tensor(x3, dtype=torch.float32) \n",
    "    y = model(wave)\n",
    "    loss = lossfn(y, label)\n",
    "    loss.backward() \n",
    "    optim.step()\n",
    "    optim.zero_grad()\n",
    "    if step %2==0:\n",
    "        print(step, loss)\n",
    "        torch.save(model.state_dict(), \"ckpt/unet.temp.pt\")"
   ]
  },
  {
   "cell_type": "markdown",
   "metadata": {},
   "source": [
    "### 连续数据拾取"
   ]
  },
  {
   "cell_type": "code",
   "execution_count": 88,
   "metadata": {},
   "outputs": [],
   "source": [
    "import torch \n",
    "jitmodel = torch.jit.load(\"ckpt/china.rnn.jit\")"
   ]
  },
  {
   "cell_type": "code",
   "execution_count": 90,
   "metadata": {},
   "outputs": [
    {
     "name": "stdout",
     "output_type": "stream",
     "text": [
      "tensor([], size=(0, 3))\n"
     ]
    }
   ],
   "source": [
    "x = torch.randn([8640000, 3])\n",
    "y = jitmodel(x)\n",
    "print(y)"
   ]
  },
  {
   "cell_type": "markdown",
   "metadata": {},
   "source": [
    "### 实际处理流程"
   ]
  },
  {
   "cell_type": "code",
   "execution_count": 91,
   "metadata": {},
   "outputs": [
    {
     "name": "stdout",
     "output_type": "stream",
     "text": [
      "tensor([[0.0000e+00, 1.5401e+05, 8.0958e-01],\n",
      "        [0.0000e+00, 2.8136e+05, 8.0007e-01],\n",
      "        [0.0000e+00, 2.1182e+05, 7.9768e-01],\n",
      "        ...,\n",
      "        [1.0000e+00, 1.9165e+05, 4.3951e-01],\n",
      "        [1.0000e+00, 2.6985e+05, 3.6164e-01],\n",
      "        [1.0000e+00, 2.8962e+05, 3.4502e-01]])\n"
     ]
    }
   ],
   "source": [
    "import torch \n",
    "import torch.nn as nn \n",
    "from models.UNet import UNet \n",
    "class Picker(UNet):\n",
    "    def __init__(self):\n",
    "        super().__init__()\n",
    "        self.n_stride = 1 \n",
    "    def forward(self, x):\n",
    "        device = x.device\n",
    "        with torch.no_grad():\n",
    "            #print(\"数据维度\", x.shape)\n",
    "            T, C = x.shape \n",
    "            seqlen = 6144 \n",
    "            batchstride = 6144 - 256\n",
    "            batchlen = torch.ceil(torch.tensor(T / batchstride).to(device))\n",
    "            idx = torch.arange(0, seqlen, 1, device=device).unsqueeze(0) + torch.arange(0, batchlen, 1, device=device).unsqueeze(1) * batchstride \n",
    "            idx = idx.clamp(min=0, max=T-1).long()\n",
    "            x = x.to(device)\n",
    "            wave = x[idx, :] \n",
    "            wave = wave.permute(0, 2, 1)\n",
    "            wave -= torch.mean(wave, dim=2, keepdim=True)\n",
    "            max, maxidx = torch.max(torch.abs(wave), dim=2, keepdim=True) \n",
    "            wave /= (max + 1e-6)  \n",
    "            x = wave.unsqueeze(3)\n",
    "            x = self.inputs(x)\n",
    "            x1 = self.layer0(x)\n",
    "            x2 = self.layer1(x1)\n",
    "            x3 = self.layer2(x2)\n",
    "            x4 = self.layer3(x3)\n",
    "            x5 = self.layer4(x4) \n",
    "            x6 = self.layer5(x5)\n",
    "            x6 = torch.cat([x4, x6], dim=1) # 加入skip connection\n",
    "            x7 = self.layer6(x6)\n",
    "            x7 = torch.cat([x3, x7], dim=1) # 加入skip connection\n",
    "            x8 = self.layer7(x7)\n",
    "            x8 = torch.cat([x2, x8], dim=1) # 加入skip connection\n",
    "            x9 = self.layer8(x8)\n",
    "            x9 = torch.cat([x1, x9], dim=1) # 加入skip connection\n",
    "            x10 = self.layer9(x9)\n",
    "            x10 = x10.softmax(dim=1)\n",
    "            oc = x10.squeeze(dim=3)\n",
    "            B, C, T = oc.shape \n",
    "            tgrid = torch.arange(0, T, 1, device=device).unsqueeze(0) * self.n_stride + torch.arange(0, batchlen, 1, device=device).unsqueeze(1) * batchstride\n",
    "            oc = oc.permute(0, 2, 1).reshape(-1, C) \n",
    "            ot = tgrid.squeeze()\n",
    "            ot = ot.reshape(-1)\n",
    "            output = []\n",
    "            #print(\"NN处理完成\", oc.shape, ot.shape)\n",
    "            for itr in range(2):\n",
    "                pc = oc[:, itr+1] \n",
    "                time_sel = torch.masked_select(ot, pc>0.3)\n",
    "                score = torch.masked_select(pc, pc>0.3)\n",
    "                _, order = score.sort(0, descending=True)    # 降序排列\n",
    "                ntime = time_sel[order] \n",
    "                nprob = score[order]\n",
    "                #print(batchstride, ntime, nprob)\n",
    "                select = -torch.ones_like(order)\n",
    "                selidx = torch.arange(0, order.numel(), 1, dtype=torch.long, device=device) \n",
    "                count = 0\n",
    "                while True:\n",
    "                    if nprob.numel()<1:\n",
    "                        break \n",
    "                    ref = ntime[0]\n",
    "                    idx = selidx[0]\n",
    "                    select[idx] = 1 \n",
    "                    count += 1 \n",
    "                    selidx = torch.masked_select(selidx, torch.abs(ref-ntime)>1000)\n",
    "                    nprob = torch.masked_select(nprob, torch.abs(ref-ntime)>1000)\n",
    "                    ntime = torch.masked_select(ntime, torch.abs(ref-ntime)>1000)\n",
    "                p_time = torch.masked_select(time_sel[order], select>0.0)\n",
    "                p_prob = torch.masked_select(score[order], select>0.0)\n",
    "                p_type = torch.ones_like(p_time) * itr \n",
    "                y = torch.stack([p_type, p_time, p_prob], dim=1)\n",
    "                output.append(y) \n",
    "            y = torch.cat(output, dim=0)\n",
    "        return y \n",
    "\n",
    "model = Picker() \n",
    "torch.jit.save(torch.jit.script(model), \"unet.jit.temp\")\n",
    "x = torch.randn([300000, 3])\n",
    "y = model(x) \n",
    "print(y)"
   ]
  }
 ],
 "metadata": {
  "kernelspec": {
   "display_name": "Python 3.9.12 ('base')",
   "language": "python",
   "name": "python3"
  },
  "language_info": {
   "codemirror_mode": {
    "name": "ipython",
    "version": 3
   },
   "file_extension": ".py",
   "mimetype": "text/x-python",
   "name": "python",
   "nbconvert_exporter": "python",
   "pygments_lexer": "ipython3",
   "version": "3.9.12"
  },
  "orig_nbformat": 4,
  "vscode": {
   "interpreter": {
    "hash": "c19e02671d6b171777b6e6a83ef3b7c2cca585df144b1bbd7b7ab4b7daafbfc1"
   }
  }
 },
 "nbformat": 4,
 "nbformat_minor": 2
}
